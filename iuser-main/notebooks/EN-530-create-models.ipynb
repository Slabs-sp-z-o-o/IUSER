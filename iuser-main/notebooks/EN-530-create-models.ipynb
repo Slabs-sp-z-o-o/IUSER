{
 "cells": [
  {
   "cell_type": "code",
   "execution_count": 13,
   "id": "8f627aef-9631-4a41-b112-2065ca2ef258",
   "metadata": {},
   "outputs": [],
   "source": [
    "import copy\n",
    "import datetime\n",
    "import os\n",
    "import sys\n",
    "\n",
    "sys.path.append(\"..\")\n",
    "\n",
    "from dotenv import load_dotenv\n",
    "\n",
    "load_dotenv(\"../common/.env_development\")\n",
    "\n",
    "from contextlib import contextmanager\n",
    "\n",
    "from common import config\n",
    "from common.controllers.ml_controller import MLController\n",
    "from google.cloud import storage\n",
    "from google.cloud import datastore\n",
    "\n",
    "@contextmanager\n",
    "def prod_credentials():\n",
    "    try:\n",
    "        os.environ[\"GOOGLE_APPLICATION_CREDENTIALS\"] = os.environ[\n",
    "            \"CREDENTIALS_PROD_CONTAINER_PATH\"\n",
    "        ]\n",
    "        yield\n",
    "    finally:\n",
    "        os.environ[\"GOOGLE_APPLICATION_CREDENTIALS\"] = os.environ[\n",
    "            \"CREDENTIALS_DEV_CONTAINER_PATH\"\n",
    "        ]"
   ]
  },
  {
   "cell_type": "code",
   "execution_count": 14,
   "id": "15a7d2cb-1f5f-488b-8ad7-1f551fdce959",
   "metadata": {},
   "outputs": [],
   "source": [
    "def delete_model(bucket_name, blob_name):\n",
    "    \"\"\"Deletes a blob from the bucket.\"\"\"\n",
    "\n",
    "    storage_client = storage.Client()\n",
    "\n",
    "    bucket = storage_client.bucket(bucket_name)\n",
    "    blob = bucket.blob(blob_name)\n",
    "    blob.delete()\n",
    "\n",
    "    print(\"Blob {} deleted.\".format(blob_name))\n",
    "\n",
    "\n",
    "def check_if_model_exists(body):\n",
    "    time_range_start = datetime.datetime.strptime(body['training_data']['time_range_start'], '%Y-%m-%dT%H:%M:%SZ')\n",
    "    time_range_end = datetime.datetime.strptime(body['training_data']['time_range_end'], '%Y-%m-%dT%H:%M:%SZ')\n",
    "    client = datastore.Client()\n",
    "    query = client.query(kind='MLModelMetadata')\n",
    "    query.add_filter('algorithm', '=', body['algorithm'])\n",
    "    query.add_filter('optimization_metric', '=', body['optimization_metric'])\n",
    "    query.add_filter('node', '=', body['training_data']['node'])\n",
    "    query.add_filter('previous_time_range_start', '=', time_range_start)\n",
    "    query.add_filter('previous_time_range_end', '=', time_range_end)\n",
    "    if body['target_frequency'] == '1h':\n",
    "        query.add_filter('target_frequency', '=', 'P0DT1H0M0S')\n",
    "    if body['horizon'] == '1d':\n",
    "        query.add_filter('horizon', '=', 'P1DT0H0M0S')\n",
    "    elif body['horizon'] == '7d':\n",
    "        query.add_filter('horizon', '=', 'P7DT0H0M0S')\n",
    "    return list(query.fetch())"
   ]
  },
  {
   "cell_type": "code",
   "execution_count": 18,
   "id": "7067d7af-acfb-422c-9080-9be70d00dd85",
   "metadata": {},
   "outputs": [],
   "source": [
    "time_range_start = '2020-08-14T14:00:00Z'\n",
    "time_range_end = '2020-08-22T00:00:00Z'\n",
    "node = 100\n",
    "opt_metric = 'r2'\n",
    "horizon = '1d'\n",
    "\n",
    "request_body = {\n",
    "                'algorithm': 'autoarima',\n",
    "                'optimization_metric': opt_metric,\n",
    "                'horizon': horizon,\n",
    "                'training_data': {\n",
    "                  'node': node,\n",
    "                  'endogenous': 'energy_usage',\n",
    "                  'time_range_start': time_range_start,\n",
    "                  'time_range_end': time_range_end},\n",
    "                'target_frequency': '1h'}"
   ]
  },
  {
   "cell_type": "code",
   "execution_count": 19,
   "id": "710b7ca1-d85e-4af8-beaa-0cb2ccaab76e",
   "metadata": {},
   "outputs": [],
   "source": [
    "tested_algorithms = ['autoarima', 'autosarima', 'arima', 'sarima', 'decision_tree', 'random_forest',\n",
    "                     'linear_regression', 'lasso', 'svm', 'boosted_trees', 'mlp']\n",
    "params = {\"arima\": {\"order\": [[0, 1, 2]]}, \"sarima\": {\"order\": [[0, 1, 2]]}}\n",
    "mlcontroller = MLController()\n",
    "tasks_ids = []"
   ]
  },
  {
   "cell_type": "code",
   "execution_count": 20,
   "id": "a13fbb01-53b2-4d47-b81a-61514fba9848",
   "metadata": {},
   "outputs": [
    {
     "name": "stdout",
     "output_type": "stream",
     "text": [
      "Creating model with request body {'algorithm': 'autoarima', 'optimization_metric': 'r2', 'horizon': '1d', 'training_data': {'node': 100, 'endogenous': 'energy_usage', 'time_range_start': '2020-08-14T14:00:00Z', 'time_range_end': '2020-08-22T00:00:00Z'}, 'target_frequency': '1h'}...\n",
      "202 {\"task_id\":\"93d781d9-bfe7-45af-b4c9-760b65325bc7\"}\n",
      "\n",
      "Creating model with request body {'algorithm': 'autosarima', 'optimization_metric': 'r2', 'horizon': '1d', 'training_data': {'node': 100, 'endogenous': 'energy_usage', 'time_range_start': '2020-08-14T14:00:00Z', 'time_range_end': '2020-08-22T00:00:00Z'}, 'target_frequency': '1h'}...\n",
      "202 {\"task_id\":\"567ef7d0-078a-4f1f-b002-2ce57eba3cc2\"}\n",
      "\n",
      "Creating model with request body {'algorithm': 'arima', 'optimization_metric': 'r2', 'horizon': '1d', 'training_data': {'node': 100, 'endogenous': 'energy_usage', 'time_range_start': '2020-08-14T14:00:00Z', 'time_range_end': '2020-08-22T00:00:00Z'}, 'target_frequency': '1h', 'params': {'order': [[0, 1, 2]]}}...\n",
      "202 {\"task_id\":\"709b6e3a-c0e9-4559-841c-78373c7882ef\"}\n",
      "\n",
      "Creating model with request body {'algorithm': 'sarima', 'optimization_metric': 'r2', 'horizon': '1d', 'training_data': {'node': 100, 'endogenous': 'energy_usage', 'time_range_start': '2020-08-14T14:00:00Z', 'time_range_end': '2020-08-22T00:00:00Z'}, 'target_frequency': '1h', 'params': {'order': [[0, 1, 2]]}}...\n",
      "202 {\"task_id\":\"729b1f9e-6034-4ddd-8886-e4a9857471b7\"}\n",
      "\n",
      "Creating model with request body {'algorithm': 'decision_tree', 'optimization_metric': 'r2', 'horizon': '1d', 'training_data': {'node': 100, 'endogenous': 'energy_usage', 'time_range_start': '2020-08-14T14:00:00Z', 'time_range_end': '2020-08-22T00:00:00Z'}, 'target_frequency': '1h'}...\n",
      "202 {\"task_id\":\"9c945c5f-13f1-487d-bd28-562a6ee801e1\"}\n",
      "\n",
      "Creating model with request body {'algorithm': 'random_forest', 'optimization_metric': 'r2', 'horizon': '1d', 'training_data': {'node': 100, 'endogenous': 'energy_usage', 'time_range_start': '2020-08-14T14:00:00Z', 'time_range_end': '2020-08-22T00:00:00Z'}, 'target_frequency': '1h'}...\n",
      "202 {\"task_id\":\"df369b9e-118e-4e22-a86b-69fe8f2f2b4f\"}\n",
      "\n",
      "Creating model with request body {'algorithm': 'linear_regression', 'optimization_metric': 'r2', 'horizon': '1d', 'training_data': {'node': 100, 'endogenous': 'energy_usage', 'time_range_start': '2020-08-14T14:00:00Z', 'time_range_end': '2020-08-22T00:00:00Z'}, 'target_frequency': '1h'}...\n",
      "202 {\"task_id\":\"85782670-e987-4df9-9c32-9ed37c24a24d\"}\n",
      "\n",
      "Creating model with request body {'algorithm': 'lasso', 'optimization_metric': 'r2', 'horizon': '1d', 'training_data': {'node': 100, 'endogenous': 'energy_usage', 'time_range_start': '2020-08-14T14:00:00Z', 'time_range_end': '2020-08-22T00:00:00Z'}, 'target_frequency': '1h'}...\n",
      "202 {\"task_id\":\"5646ff0a-17fc-43eb-a8a3-548eb1b4c331\"}\n",
      "\n",
      "Creating model with request body {'algorithm': 'svm', 'optimization_metric': 'r2', 'horizon': '1d', 'training_data': {'node': 100, 'endogenous': 'energy_usage', 'time_range_start': '2020-08-14T14:00:00Z', 'time_range_end': '2020-08-22T00:00:00Z'}, 'target_frequency': '1h'}...\n",
      "202 {\"task_id\":\"4d82246e-1988-46db-b13b-25c45aee922e\"}\n",
      "\n",
      "Creating model with request body {'algorithm': 'boosted_trees', 'optimization_metric': 'r2', 'horizon': '1d', 'training_data': {'node': 100, 'endogenous': 'energy_usage', 'time_range_start': '2020-08-14T14:00:00Z', 'time_range_end': '2020-08-22T00:00:00Z'}, 'target_frequency': '1h'}...\n",
      "202 {\"task_id\":\"8410b88f-889c-4b66-828c-803f2ff26420\"}\n",
      "\n",
      "Creating model with request body {'algorithm': 'mlp', 'optimization_metric': 'r2', 'horizon': '1d', 'training_data': {'node': 100, 'endogenous': 'energy_usage', 'time_range_start': '2020-08-14T14:00:00Z', 'time_range_end': '2020-08-22T00:00:00Z'}, 'target_frequency': '1h'}...\n",
      "202 {\"task_id\":\"53f46264-cb98-49ef-b22d-bfd6d4050ce0\"}\n",
      "\n"
     ]
    }
   ],
   "source": [
    "for algorithm in tested_algorithms:\n",
    "    new_request_body = copy.deepcopy(request_body)\n",
    "    if algorithm in params.keys():\n",
    "        new_request_body['params'] = params[algorithm]\n",
    "    new_request_body['algorithm'] = algorithm\n",
    "    list_of_same_models = check_if_model_exists(new_request_body)\n",
    "    if len(list_of_same_models) == 0:\n",
    "        response = mlcontroller.create_and_train_model(new_request_body)\n",
    "    else:\n",
    "        response = mlcontroller.create_and_train_model(new_request_body)\n",
    "        print(f'Liczba modeli o tych samych parametrach: {len(list_of_same_models)}')\n",
    "    print(response.status_code, response.text)\n",
    "    tasks_ids.append(response.json()['task_id'])\n"
   ]
  },
  {
   "cell_type": "code",
   "execution_count": 21,
   "id": "030ac8ae-179e-4289-83be-2cda2f968cde",
   "metadata": {},
   "outputs": [
    {
     "name": "stdout",
     "output_type": "stream",
     "text": [
      "Waiting for task of id 93d781d9-bfe7-45af-b4c9-760b65325bc7 to finish\n",
      "Waiting. Status: STARTED\n",
      "Waiting. Status: STARTED\n",
      "Waiting. Status: STARTED\n",
      "Task finished!\n",
      "200 {\"message\":null,\"result\":{\"metrics\":{\"mae\":0.2762979108166336,\"mape\":1.4427822642669659,\"me\":1.1577611782053419,\"mse\":0.10494549718388141,\"r2\":0.24218155954496579,\"rmae\":0.5256404767677557,\"rmse\":0.3239529243329676},\"model_id\":\"937cfba9-12f8-4345-80e1-248e9a24b68b\",\"selected_hyperparameters\":{}},\"status\":\"SUCCESS\"}\n",
      "\n",
      "Waiting for task of id 567ef7d0-078a-4f1f-b002-2ce57eba3cc2 to finish\n",
      "Task finished!\n",
      "200 {\"message\":null,\"result\":{\"metrics\":{\"mae\":0.2746126766194764,\"mape\":1.4447572987228787,\"me\":1.1578433920132012,\"mse\":0.10458254746186284,\"r2\":0.24480244371517235,\"rmae\":0.5240349956057099,\"rmse\":0.32339225015739453},\"model_id\":\"81da0241-5403-404f-9479-045b984a02c5\",\"selected_hyperparameters\":{}},\"status\":\"SUCCESS\"}\n",
      "\n",
      "Waiting for task of id 709b6e3a-c0e9-4559-841c-78373c7882ef to finish\n",
      "Waiting. Status: STARTED\n",
      "Task finished!\n",
      "200 {\"message\":null,\"result\":{\"metrics\":{\"mae\":0.2818102598472487,\"mape\":1.186724957112836,\"me\":1.303283846042795,\"mse\":0.12908859421756802,\"r2\":0.0678426442719714,\"rmae\":0.5308580411440037,\"rmse\":0.3592890121024689},\"model_id\":\"56e8a93b-5648-4624-890b-2ead7758f557\",\"selected_hyperparameters\":{\"order\":[0,1,2]}},\"status\":\"SUCCESS\"}\n",
      "\n",
      "Waiting for task of id 729b1f9e-6034-4ddd-8886-e4a9857471b7 to finish\n",
      "Task finished!\n",
      "200 {\"message\":null,\"result\":{\"metrics\":{\"mae\":0.2818102598472487,\"mape\":1.186724957112836,\"me\":1.303283846042795,\"mse\":0.12908859421756802,\"r2\":0.0678426442719714,\"rmae\":0.5308580411440037,\"rmse\":0.3592890121024689},\"model_id\":\"1aad2f6a-23fb-4f82-b678-102841cf2cc5\",\"selected_hyperparameters\":{\"order\":[0,1,2]}},\"status\":\"SUCCESS\"}\n",
      "\n",
      "Waiting for task of id 9c945c5f-13f1-487d-bd28-562a6ee801e1 to finish\n",
      "Waiting. Status: STARTED\n",
      "Waiting. Status: STARTED\n",
      "Task finished!\n",
      "200 {\"message\":null,\"result\":{\"metrics\":{\"mae\":0.3827899999999947,\"mape\":1.181926906113102,\"me\":2.8244799999999515,\"mse\":0.3998779478999866,\"r2\":-1.8875453543181693,\"rmae\":0.6187002505252399,\"rmse\":0.6323590340146859},\"model_id\":\"34c5b73a-f45f-4e71-a032-f364882b254c\",\"selected_hyperparameters\":{}},\"status\":\"SUCCESS\"}\n",
      "\n",
      "Waiting for task of id df369b9e-118e-4e22-a86b-69fe8f2f2b4f to finish\n",
      "Task finished!\n",
      "200 {\"message\":null,\"result\":{\"metrics\":{\"mae\":0.3207211555555531,\"mape\":1.1044517172607307,\"me\":1.964430599999953,\"mse\":0.226271388043207,\"r2\":-0.6339207970595573,\"rmae\":0.5663224837100793,\"rmse\":0.4756799218415751},\"model_id\":\"3319b9a6-1263-4b29-89a2-fb24db1646cd\",\"selected_hyperparameters\":{}},\"status\":\"SUCCESS\"}\n",
      "\n",
      "Waiting for task of id 85782670-e987-4df9-9c32-9ed37c24a24d to finish\n",
      "Waiting. Status: STARTED\n",
      "Waiting. Status: STARTED\n",
      "Waiting. Status: STARTED\n",
      "Waiting. Status: STARTED\n",
      "Task finished!\n",
      "200 {\"message\":null,\"result\":{\"metrics\":{\"mae\":0.2631054094047477,\"mape\":1.2836990108534687,\"me\":1.1560223346648335,\"mse\":0.10332511537365124,\"r2\":0.2538824447598763,\"rmae\":0.5129380171178071,\"rmse\":0.32144224267144983},\"model_id\":\"dd676923-4ee2-447c-87cd-be6142498321\",\"selected_hyperparameters\":{}},\"status\":\"SUCCESS\"}\n",
      "\n",
      "Waiting for task of id 5646ff0a-17fc-43eb-a8a3-548eb1b4c331 to finish\n",
      "Task finished!\n",
      "200 {\"message\":null,\"result\":{\"metrics\":{\"mae\":0.342067428041892,\"mape\":1.9994446364797303,\"me\":1.1565792380953293,\"mse\":0.15481446209474914,\"r2\":-0.1179255649145392,\"rmae\":0.5848653076067104,\"rmse\":0.3934646897686616},\"model_id\":\"52f9cf10-aaa3-4d9e-8c72-3c5f876b370c\",\"selected_hyperparameters\":{}},\"status\":\"SUCCESS\"}\n",
      "\n",
      "Waiting for task of id 4d82246e-1988-46db-b13b-25c45aee922e to finish\n",
      "Waiting. Status: STARTED\n",
      "Waiting. Status: STARTED\n",
      "Task finished!\n",
      "200 {\"message\":null,\"result\":{\"metrics\":{\"mae\":0.23276561620426575,\"mape\":0.8714936394272657,\"me\":1.1105536359276056,\"mse\":0.09926460206994192,\"r2\":0.2832036823721228,\"rmae\":0.4824578906021392,\"rmse\":0.315062854157614},\"model_id\":\"a8e475bf-9c51-4fe5-8965-4473444297cd\",\"selected_hyperparameters\":{}},\"status\":\"SUCCESS\"}\n",
      "\n",
      "Waiting for task of id 8410b88f-889c-4b66-828c-803f2ff26420 to finish\n",
      "Task finished!\n",
      "200 {\"message\":null,\"result\":{\"metrics\":{\"mae\":0.2590499491305279,\"mape\":1.1940840321520918,\"me\":0.9451623671265322,\"mse\":0.10362371681638123,\"r2\":0.2517262238097695,\"rmae\":0.508969497249617,\"rmse\":0.3219063789619293},\"model_id\":\"a5c7a08e-7e1e-4623-b9f2-38a13bec2f0e\",\"selected_hyperparameters\":{}},\"status\":\"SUCCESS\"}\n",
      "\n",
      "Waiting for task of id 53f46264-cb98-49ef-b22d-bfd6d4050ce0 to finish\n",
      "Waiting. Status: STARTED\n",
      "Task finished!\n",
      "200 {\"message\":null,\"result\":{\"metrics\":{\"mae\":0.41859675243928185,\"mape\":0.8035223298884306,\"me\":1.7674267598421933,\"mse\":0.31744996885642063,\"r2\":-1.2923274154369433,\"rmae\":0.6469905350461334,\"rmse\":0.5634269862692243},\"model_id\":\"a08fbc8a-370e-410d-b413-c0178546319c\",\"selected_hyperparameters\":{}},\"status\":\"SUCCESS\"}\n",
      "\n"
     ]
    }
   ],
   "source": [
    "model_ids = []\n",
    "for task_id in tasks_ids:\n",
    "    task_response = mlcontroller.wait_for_task(task_id, 600)\n",
    "    print(task_response.status_code, task_response.text)\n",
    "    if task_response.json()[\"status\"] == 'SUCCESS':\n",
    "        model_ids.append(task_response.json()[\"result\"][\"model_id\"])"
   ]
  },
  {
   "cell_type": "code",
   "execution_count": null,
   "id": "bcaa28bb-c098-4f67-badc-53b991b91661",
   "metadata": {},
   "outputs": [
    {
     "name": "stdout",
     "output_type": "stream",
     "text": [
      "Blob model_937cfba9-12f8-4345-80e1-248e9a24b68b.json deleted.\n",
      "Blob model_81da0241-5403-404f-9479-045b984a02c5.json deleted.\n",
      "Blob model_56e8a93b-5648-4624-890b-2ead7758f557.json deleted.\n",
      "Blob model_1aad2f6a-23fb-4f82-b678-102841cf2cc5.json deleted.\n",
      "Blob model_34c5b73a-f45f-4e71-a032-f364882b254c.json deleted.\n",
      "Blob model_3319b9a6-1263-4b29-89a2-fb24db1646cd.json deleted.\n",
      "Blob model_dd676923-4ee2-447c-87cd-be6142498321.json deleted.\n",
      "Blob model_52f9cf10-aaa3-4d9e-8c72-3c5f876b370c.json deleted.\n",
      "Blob model_a8e475bf-9c51-4fe5-8965-4473444297cd.json deleted.\n",
      "Blob model_a5c7a08e-7e1e-4623-b9f2-38a13bec2f0e.json deleted.\n"
     ]
    }
   ],
   "source": [
    "for model_id in model_ids:\n",
    "    delete_model('pwrability-development-ml-models-metadata', f'model_{model_id}.json')"
   ]
  },
  {
   "cell_type": "code",
   "execution_count": 11,
   "id": "0370b27e-5262-455a-bc5f-ee40cae80433",
   "metadata": {},
   "outputs": [
    {
     "name": "stdout",
     "output_type": "stream",
     "text": [
      "Creating model with request body {'algorithm': 'sarima', 'params': {'order': [[0, 1, 2]]}, 'optimization_metric': 'r2', 'horizon': '1d', 'training_data': {'node': 100, 'endogenous': 'energy_usage', 'time_range_start': '2020-08-12T00:00:00Z', 'time_range_end': '2020-08-22T00:00:00Z'}, 'target_frequency': '1h'}...\n"
     ]
    },
    {
     "data": {
      "text/plain": [
       "<Response [202]>"
      ]
     },
     "execution_count": 11,
     "metadata": {},
     "output_type": "execute_result"
    }
   ],
   "source": []
  },
  {
   "cell_type": "code",
   "execution_count": null,
   "id": "e169c9e9-4fd1-49ee-8af5-4252aa913555",
   "metadata": {},
   "outputs": [],
   "source": []
  },
  {
   "cell_type": "code",
   "execution_count": null,
   "id": "72e438f1-1519-4262-9e62-e1e8ea6bb4e6",
   "metadata": {},
   "outputs": [],
   "source": []
  }
 ],
 "metadata": {
  "kernelspec": {
   "display_name": "Python 3 (ipykernel)",
   "language": "python",
   "name": "python3"
  },
  "language_info": {
   "codemirror_mode": {
    "name": "ipython",
    "version": 3
   },
   "file_extension": ".py",
   "mimetype": "text/x-python",
   "name": "python",
   "nbconvert_exporter": "python",
   "pygments_lexer": "ipython3",
   "version": "3.9.7"
  }
 },
 "nbformat": 4,
 "nbformat_minor": 5
}
